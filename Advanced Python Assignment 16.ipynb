{
 "cells": [
  {
   "cell_type": "code",
   "execution_count": null,
   "metadata": {},
   "outputs": [],
   "source": [
    "Q1.What is the benefit of regular expressions?"
   ]
  },
  {
   "cell_type": "code",
   "execution_count": null,
   "metadata": {},
   "outputs": [],
   "source": [
    "A Regular Expression is used for identifying a search pattern in a text string. It also helps in finding\n",
    "out the correctness of the data and even operations such as finding, replacing and formatting the data is \n",
    "possible using Regular Expressions."
   ]
  },
  {
   "cell_type": "code",
   "execution_count": 2,
   "metadata": {},
   "outputs": [
    {
     "name": "stdout",
     "output_type": "stream",
     "text": [
      "['me', 'me']\n"
     ]
    }
   ],
   "source": [
    "import re\n",
    "findme=re.findall('me','can you find me with this method')\n",
    "print(findme)"
   ]
  },
  {
   "cell_type": "code",
   "execution_count": null,
   "metadata": {},
   "outputs": [],
   "source": [
    "Q2. Describe the difference between the effects of '(ab)c+'; and 'a(bc)+'; Which of these, if any, is the\n",
    "unqualified pattern 'abc+'?"
   ]
  },
  {
   "cell_type": "code",
   "execution_count": 4,
   "metadata": {},
   "outputs": [
    {
     "data": {
      "text/plain": [
       "('(ab)c+', 'a(bc)+')"
      ]
     },
     "execution_count": 4,
     "metadata": {},
     "output_type": "execute_result"
    }
   ],
   "source": [
    "'(ab)c+','a(bc)+'"
   ]
  },
  {
   "cell_type": "code",
   "execution_count": 55,
   "metadata": {},
   "outputs": [
    {
     "data": {
      "text/plain": [
       "(['ra'], ['ai'], ['rai'])"
      ]
     },
     "execution_count": 55,
     "metadata": {},
     "output_type": "execute_result"
    }
   ],
   "source": [
    "import re\n",
    "\n",
    "txt = \"The rain in Spain falls mainly in the plain!\"\n",
    "\n",
    "#Check if the string contains \"ai\" followed by 1 or more \"x\" characters:\n",
    "\n",
    "x = re.findall(\"(ra)i+\", txt)\n",
    "y = re.findall(\"r(ai)+\", txt)\n",
    "z = re.findall(\"rai+\", txt)\n",
    "x,y,z"
   ]
  },
  {
   "cell_type": "code",
   "execution_count": null,
   "metadata": {},
   "outputs": [],
   "source": [
    "As we can see all three commands give different outputs hence each command has different effect."
   ]
  },
  {
   "cell_type": "code",
   "execution_count": null,
   "metadata": {},
   "outputs": [],
   "source": [
    "Q3. How much do you need to use the following sentence while using regular expressions?\n",
    "\n",
    "import re"
   ]
  },
  {
   "cell_type": "code",
   "execution_count": null,
   "metadata": {},
   "outputs": [],
   "source": [
    "For every command that is available only in regular expression module we need to use this line.\n",
    "By this command we import regular expression module"
   ]
  },
  {
   "cell_type": "code",
   "execution_count": 56,
   "metadata": {},
   "outputs": [
    {
     "name": "stdout",
     "output_type": "stream",
     "text": [
      "['me', 'me']\n"
     ]
    }
   ],
   "source": [
    "import re\n",
    "findme=re.findall('me','can you find me with this method')\n",
    "print(findme)"
   ]
  },
  {
   "cell_type": "code",
   "execution_count": null,
   "metadata": {},
   "outputs": [],
   "source": [
    "Q4. Which characters have special significance in square brackets when expressing a range, and\n",
    "under what circumstances?"
   ]
  },
  {
   "cell_type": "code",
   "execution_count": 69,
   "metadata": {},
   "outputs": [
    {
     "data": {
      "text/plain": [
       "(['h', 'e', 'a', 'a'], ['T', 'S'], ['T', 'h', 'e', 'a', 'S', 'a'])"
      ]
     },
     "execution_count": 69,
     "metadata": {},
     "output_type": "execute_result"
    }
   ],
   "source": [
    "import re\n",
    "txt = \"The rain in Spain\"\n",
    "x = re.findall(\"[a-h]\", txt)\n",
    "y= re.findall(\"[M-U]\", txt)\n",
    "z=re.findall(\"[a-h,M-U]\", txt)\n",
    "x,y,z"
   ]
  },
  {
   "cell_type": "code",
   "execution_count": null,
   "metadata": {},
   "outputs": [],
   "source": [
    "In this example [a-h] a-n letters in square bracket returns all lower case letters within \n",
    "range from a to h whereas M-U in second line return all upper case letters in given range.\n",
    "Last line for upper or lower case for given range"
   ]
  },
  {
   "cell_type": "code",
   "execution_count": 72,
   "metadata": {},
   "outputs": [
    {
     "data": {
      "text/plain": [
       "(['9', '8', '6', '6', '8', '9'], ['56'])"
      ]
     },
     "execution_count": 72,
     "metadata": {},
     "output_type": "execute_result"
    }
   ],
   "source": [
    "num='98 6 56 548 32 59'\n",
    "x = re.findall(\"[6-9]\", num)\n",
    "y = re.findall(\"[0-9][5-7]\", num)\n",
    "x,y"
   ]
  },
  {
   "cell_type": "code",
   "execution_count": null,
   "metadata": {},
   "outputs": [],
   "source": [
    "Here it returns  every number in range [0-9] single digit ,whereas second output y returns each 2 digit\n",
    "number ,whose second number ends in range 5-7."
   ]
  },
  {
   "cell_type": "code",
   "execution_count": null,
   "metadata": {},
   "outputs": [],
   "source": [
    "Q5. How does compiling a regular-expression object benefit you?"
   ]
  },
  {
   "cell_type": "code",
   "execution_count": null,
   "metadata": {},
   "outputs": [],
   "source": [
    "If you are repeatedly performing a regular expression search on a series of strings, it will be more \n",
    "efficient to compile the regular expression once, creating a regular expression object, and to invoke the \n",
    "regular expression function as a method on this object.\n",
    "\n",
    "Another advantage of compiling a regular expression is that, when you compile a regular expression, \n",
    "you can specify a number of options modifying the way that Python will treat the regular expression. Each\n",
    "option is defined as a constant in the re module in two forms; a long form and a single letter abbreviation\n",
    ". To specify an option when you compile a regular expression, pass these constants as a second argument to\n",
    "the compile function. To specify more than one option, join the options with the bitwise or operator (|). "
   ]
  },
  {
   "cell_type": "code",
   "execution_count": 75,
   "metadata": {},
   "outputs": [
    {
     "data": {
      "text/plain": [
       "re.compile(r'ab*', re.UNICODE)"
      ]
     },
     "execution_count": 75,
     "metadata": {},
     "output_type": "execute_result"
    }
   ],
   "source": [
    "import re\n",
    "p = re.compile('ab*')\n",
    "p"
   ]
  },
  {
   "cell_type": "code",
   "execution_count": null,
   "metadata": {},
   "outputs": [],
   "source": [
    "Q6. What are some examples of how to use the match object returned by re.match and re.search?"
   ]
  },
  {
   "cell_type": "code",
   "execution_count": null,
   "metadata": {},
   "outputs": [],
   "source": [
    "A Match Object is an object containing information about the search and the result.\n",
    "Do a search that will return a Match Object:\n",
    ".span() returns a tuple containing the start-, and end positions of the match.\n",
    ".string returns the string passed into the function\n",
    ".group() returns the part of the string where there was a match"
   ]
  },
  {
   "cell_type": "code",
   "execution_count": 84,
   "metadata": {},
   "outputs": [
    {
     "name": "stdout",
     "output_type": "stream",
     "text": [
      "<re.Match object; span=(6, 8), match='in'>\n"
     ]
    },
    {
     "data": {
      "text/plain": [
       "((6, 8), 'in', 'The rain in Spain')"
      ]
     },
     "execution_count": 84,
     "metadata": {},
     "output_type": "execute_result"
    }
   ],
   "source": [
    "import re\n",
    "\n",
    "txt = \"The rain in Spain\"\n",
    "x = re.search(\"in\", txt)\n",
    "print(x) #this will print an object\n",
    "x.span(),x.group(),x.string"
   ]
  },
  {
   "cell_type": "code",
   "execution_count": 105,
   "metadata": {},
   "outputs": [
    {
     "name": "stdout",
     "output_type": "stream",
     "text": [
      "<re.Match object; span=(0, 2), match='ab'> None\n"
     ]
    }
   ],
   "source": [
    "import re\n",
    "pattern = '^ab'\n",
    "pattern2='^as'\n",
    "test_string = 'abyss\\aries askskas'\n",
    "result = re.match(pattern, test_string)\n",
    "result2=re.match(pattern2, test_string)\n",
    "print(result,result2)"
   ]
  },
  {
   "cell_type": "code",
   "execution_count": null,
   "metadata": {},
   "outputs": [],
   "source": [
    "With re.match(), matches are essentially always anchored at the beginning of the string.\n",
    "re.search() matches when the patterns are both at the beginning of the string and in the middle, \n",
    "but re.match() matches only when the patterns are at the beginning."
   ]
  },
  {
   "cell_type": "code",
   "execution_count": null,
   "metadata": {},
   "outputs": [],
   "source": [
    "Q7. What is the difference between using a vertical bar (|) as an alteration and using square brackets\n",
    "as a character set?"
   ]
  },
  {
   "cell_type": "code",
   "execution_count": null,
   "metadata": {},
   "outputs": [],
   "source": [
    "Vertical bar is used as or in regular expression.Find 'are' or 'king' in follo\n",
    "[b-d]  finds all lower case characters alphabetically between \"b\" and \"d\"."
   ]
  },
  {
   "cell_type": "code",
   "execution_count": 110,
   "metadata": {},
   "outputs": [
    {
     "data": {
      "text/plain": [
       "(['are'], ['c', 'd', 'c', 'd'])"
      ]
     },
     "execution_count": 110,
     "metadata": {},
     "output_type": "execute_result"
    }
   ],
   "source": [
    "text='covid cases are rising in India'\n",
    "k=re.findall('are|king',text)\n",
    "m=re.findall('[b-d]',text)\n",
    "k,m"
   ]
  },
  {
   "cell_type": "code",
   "execution_count": null,
   "metadata": {},
   "outputs": [],
   "source": [
    "Q8. In regular-expression search patterns, why is it necessary to use the raw-string indicator (r)? In  \n",
    "replacement strings?"
   ]
  },
  {
   "cell_type": "code",
   "execution_count": null,
   "metadata": {},
   "outputs": [],
   "source": [
    "Regular expressions use the backslash character ('\\') to indicate special forms or to allow special\n",
    "characters to be used without invoking their special meaning. This collides with Python’s usage of the \n",
    "same character for the same purpose in string literals...\"\n",
    "\n",
    "If you want a Python regular expression object which matches a newline character, then you need a \n",
    "2-character string, consisting of the backslash character followed by the n character. The following lines\n",
    "of code all set prog to a regular expression object which recognises a newline character:\n",
    "raw string notation (r\"text\") keeps regular expressions meaningful and confusion-free. Without it, every\n",
    "backslash ('\\') in a regular expression would have to be prefixed with another one to escape it.    "
   ]
  },
  {
   "cell_type": "code",
   "execution_count": 111,
   "metadata": {},
   "outputs": [],
   "source": [
    "prog = re.compile(chr(92)+chr(110))\n",
    "prog = re.compile(\"\\\\n\")\n",
    "prog = re.compile(r\"\\n\")"
   ]
  },
  {
   "cell_type": "code",
   "execution_count": null,
   "metadata": {},
   "outputs": [],
   "source": [
    "Because regular expressions are frequently static strings, which are conveniently represented as string \n",
    "literals. And from the different string literal notations available, raw strings are a convenient choice, \n",
    "when the regular expression includes a backslash character."
   ]
  },
  {
   "cell_type": "code",
   "execution_count": 145,
   "metadata": {},
   "outputs": [
    {
     "data": {
      "text/plain": [
       "<re.Match object; span=(0, 1), match='\\\\'>"
      ]
     },
     "execution_count": 145,
     "metadata": {},
     "output_type": "execute_result"
    }
   ],
   "source": [
    "re.match(r\"\\\\\",r\"\\\\\")"
   ]
  },
  {
   "cell_type": "code",
   "execution_count": 158,
   "metadata": {},
   "outputs": [
    {
     "data": {
      "text/plain": [
       "<re.Match object; span=(0, 1), match='\\\\'>"
      ]
     },
     "execution_count": 158,
     "metadata": {},
     "output_type": "execute_result"
    }
   ],
   "source": [
    "re.match(\"\\\\\\\\\", r\"\\\\\")              "
   ]
  },
  {
   "cell_type": "code",
   "execution_count": null,
   "metadata": {},
   "outputs": [],
   "source": []
  }
 ],
 "metadata": {
  "kernelspec": {
   "display_name": "Python 3",
   "language": "python",
   "name": "python3"
  },
  "language_info": {
   "codemirror_mode": {
    "name": "ipython",
    "version": 3
   },
   "file_extension": ".py",
   "mimetype": "text/x-python",
   "name": "python",
   "nbconvert_exporter": "python",
   "pygments_lexer": "ipython3",
   "version": "3.8.3"
  }
 },
 "nbformat": 4,
 "nbformat_minor": 4
}
